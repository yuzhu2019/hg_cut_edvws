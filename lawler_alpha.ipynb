{
 "cells": [
  {
   "cell_type": "code",
   "execution_count": null,
   "metadata": {},
   "outputs": [],
   "source": [
    "import numpy as np\n",
    "import random\n",
    "import sklearn\n",
    "from sklearn.metrics import accuracy_score\n",
    "import matplotlib.pyplot as plt\n",
    "\n",
    "import data\n",
    "from algs import *"
   ]
  },
  {
   "cell_type": "code",
   "execution_count": null,
   "metadata": {},
   "outputs": [],
   "source": [
    "dataset_name = '20newsgroups'\n",
    "class_0 = ['rec.motorcycles']\n",
    "class_1 = ['sci.space']\n",
    "\n",
    "categories = sorted(class_0 + class_1)\n",
    "\n",
    "sparsity_b1 = 0.03\n",
    "sparsity_b2 = 0.002\n",
    "num_words = 200\n",
    "\n",
    "expansion = 'l'\n",
    "train_ratio = 0.7\n",
    "random.seed(0)"
   ]
  },
  {
   "cell_type": "code",
   "execution_count": null,
   "metadata": {},
   "outputs": [],
   "source": [
    "print('--- Load the dataset. ---')\n",
    "if dataset_name == '20newsgroups':\n",
    "    dataset = data.Text20News(subset='all', categories=categories, remove=(), shuffle=True, random_state=42)\n",
    "else:  # elif dataset_name == 'rcv1':\n",
    "    dataset = data.TextRCV1(data_dir='./data/RCV1', subset='all', categories=categories)\n",
    "\n",
    "print('\\n--- Transform text to a-z (lowercase) and (single) whitespace. ---')\n",
    "dataset.clean_text(num='substitute')\n",
    "\n",
    "print('\\n-- Count words. ---')\n",
    "dataset.vectorize(stop_words='english')\n",
    "\n",
    "print('\\n--- Remove documents containing less than 20 words. ---')\n",
    "dataset.remove_short_documents(nwords=20, vocab='full')\n",
    "\n",
    "print('\\n--- Remove documents containing images. ---')\n",
    "dataset.remove_encoded_images()\n",
    "    \n",
    "print('\\n--- Remove words appearing in more than {} percent and less than {} percent documents. ---'.format(sparsity_b1*100, sparsity_b2*100))\n",
    "dataset.remove_frequent_words(sparsity_b1=sparsity_b1, sparsity_b2=sparsity_b2)\n",
    "\n",
    "print('\\n--- Keep top ' + str(num_words) + ' frequent words. ---')\n",
    "dataset.keep_top_words(num_words, 10)\n",
    "\n",
    "print('\\n--- Remove documents containing less than 1 (selected) words. ---')\n",
    "dataset.remove_short_documents(nwords=1, vocab='selected')\n",
    "\n",
    "print('\\n--- Compute tf-dif. ---\\n')\n",
    "dataset.compute_tfidf()\n",
    "\n",
    "dataset.data_info(show_classes=True)\n",
    "\n",
    "tfidf = dataset.tfidf.astype(np.float32).T.toarray()  # size: (num of words) x (num of documents)\n",
    "n_e, n_v = np.shape(tfidf) "
   ]
  },
  {
   "cell_type": "code",
   "execution_count": null,
   "metadata": {},
   "outputs": [],
   "source": [
    "# convert into 2 classes\n",
    "index2class = {i: dataset.class_names[i] for i in range(len(dataset.class_names))}\n",
    "true_classes = []\n",
    "for i in dataset.labels:\n",
    "    if index2class[i] in class_0:\n",
    "        true_classes.append(0)\n",
    "    else:  # class_1\n",
    "        true_classes.append(1) \n",
    "true_classes = np.array(true_classes)\n",
    "\n",
    "c0_index = list(np.where(true_classes == 0)[0])\n",
    "c1_index = list(np.where(true_classes == 1)[0])\n",
    "c0_size = len(c0_index)\n",
    "c1_size = len(c1_index)"
   ]
  },
  {
   "cell_type": "code",
   "execution_count": null,
   "metadata": {},
   "outputs": [],
   "source": [
    "para_p = 1\n",
    "incidence_list, parameter_list = build_hg(tfidf, para_p)\n",
    "\n",
    "b = []\n",
    "for e_i in range(n_e):\n",
    "    edvws = parameter_list[e_i]\n",
    "    b.append(np.min(edvws)/np.sum(edvws))\n",
    "    \n",
    "min(b)"
   ]
  },
  {
   "cell_type": "code",
   "execution_count": null,
   "metadata": {},
   "outputs": [],
   "source": [
    "alpha_list = np.logspace(-4, 0, 25)[3:-2]\n",
    "n_alpha = len(alpha_list)\n",
    "\n",
    "print(alpha_list)"
   ]
  },
  {
   "cell_type": "code",
   "execution_count": null,
   "metadata": {},
   "outputs": [],
   "source": [
    "n_iter = 10\n",
    "acc = np.zeros((n_iter, n_alpha))\n",
    "\n",
    "for i_iter in range(n_iter):  # for different realizations\n",
    "    print('i_iter =', i_iter)        \n",
    "    c0_labeled, c1_labeled, unlabeled = train_test_split(c0_index, c1_index, c0_size, c1_size, n_v, train_ratio)\n",
    "\n",
    "#     pred_classes = classification(incidence_list, parameter_list, n_v, n_e, c0_labeled, c1_labeled, 'h')        \n",
    "#     acc_h = accuracy_score(true_classes[unlabeled], pred_classes[unlabeled])\n",
    "#     print(acc_h)\n",
    "    \n",
    "    for i_alpha in range(n_alpha):  # for different alpha\n",
    "        alpha = alpha_list[i_alpha]\n",
    "        pred_classes = classification(incidence_list, parameter_list, n_v, n_e, c0_labeled, c1_labeled, expansion, alpha)        \n",
    "        acc[i_iter, i_alpha] = accuracy_score(true_classes[unlabeled], pred_classes[unlabeled])\n",
    "        print(acc[i_iter, i_alpha])\n",
    "            \n",
    "# file_name = 'results/'+dataset_name+'/'+expansion+'_'+str(train_ratio)+'_'+categories[0]+'_'+categories[1]+'_'+str(sparsity_b1)+'_'+str(num_words)\n",
    "# np.save(file_name+'_alpha', acc)\n"
   ]
  },
  {
   "cell_type": "code",
   "execution_count": null,
   "metadata": {},
   "outputs": [],
   "source": [
    "plt.figure()\n",
    "myfig = plt.gcf()\n",
    "\n",
    "x = alpha_list\n",
    "\n",
    "y = np.mean(acc, 0)\n",
    "yerr = np.std(acc, 0)\n",
    "plt.errorbar(x, y, yerr)\n",
    "plt.xlabel('alpha')\n",
    "plt.ylabel('Classification accuracy')\n",
    "plt.xscale('log')\n",
    "plt.grid()\n",
    "\n",
    "# fig_name = 'results/'+dataset_name+'/temp/'+expansion+'_'+str(train_ratio)+'_'+categories[0]+'_'+categories[1]+'_'+str(sparsity_b1)+'_'+str(num_words)\n",
    "# myfig.savefig(fig_name+'_alpha.png')\n"
   ]
  },
  {
   "cell_type": "code",
   "execution_count": null,
   "metadata": {},
   "outputs": [],
   "source": []
  }
 ],
 "metadata": {
  "kernelspec": {
   "display_name": "Python 3",
   "language": "python",
   "name": "python3"
  },
  "language_info": {
   "codemirror_mode": {
    "name": "ipython",
    "version": 3
   },
   "file_extension": ".py",
   "mimetype": "text/x-python",
   "name": "python",
   "nbconvert_exporter": "python",
   "pygments_lexer": "ipython3",
   "version": "3.7.6"
  }
 },
 "nbformat": 4,
 "nbformat_minor": 4
}
